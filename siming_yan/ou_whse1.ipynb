{
    "cells": [
        {
            "cell_type": "code",
            "execution_count": 3,
            "source": [
                "# ou warehosue\r\n",
                "import pandas as pd\r\n",
                "import numpy as np\r\n",
                "import re\r\n",
                "import os\r\n",
                "os.getcwd()"
            ],
            "outputs": [
                {
                    "output_type": "execute_result",
                    "data": {
                        "text/plain": [
                            "'c:\\\\Users\\\\dscshap3808\\\\Documents\\\\data\\\\BA'"
                        ]
                    },
                    "metadata": {},
                    "execution_count": 3
                }
            ],
            "metadata": {}
        },
        {
            "cell_type": "code",
            "execution_count": 14,
            "source": [
                "whse_ou = pd.read_csv('./ou_whse0.csv')\r\n",
                "# daily_kpi = pd.read_csv('./kpi_daily.csv')"
            ],
            "outputs": [],
            "metadata": {}
        },
        {
            "cell_type": "code",
            "execution_count": 15,
            "source": [
                "re1 = re.compile(r'(?<=\\.).+')\r\n",
                "whse_ou.columns = [re1.findall(i)[0] for i in list(whse_ou.columns.to_numpy())]\r\n",
                "daily_kpi.columns = [re1.findall(i)[0] for i in list(daily_kpi.columns.to_numpy())]\r\n",
                "# re1.sub('',list(whse_ou.columns.to_numpy())[1])\r\n",
                "df = whse_ou.merge(daily_kpi, on = 'ou_code')\r\n",
                "df = df[df['data_source'] == 'SCALE']"
            ],
            "outputs": [],
            "metadata": {}
        },
        {
            "cell_type": "code",
            "execution_count": 26,
            "source": [
                "def search_ou_whse(input):\r\n",
                "    try:\r\n",
                "        input2 = int(input)\r\n",
                "        code = input\r\n",
                "        cod='CN-'+str(code)\r\n",
                "        cod2 = 'HK-' + str(code)\r\n",
                "        return pd.concat([whse_ou[whse_ou['ou_code'] == cod], whse_ou[whse_ou['ou_code'] == cod2]], axis = 0)\r\n",
                "    except:\r\n",
                "        whse = input\r\n",
                "        cod=str(whse).upper()\r\n",
                "        # cod2 = 'HK-' + str(code)\r\n",
                "        return whse_ou[whse_ou['ou_name'].str.match(cod)]"
            ],
            "outputs": [],
            "metadata": {}
        },
        {
            "cell_type": "code",
            "execution_count": 32,
            "source": [
                "search_ou_whse('009')"
            ],
            "outputs": [
                {
                    "output_type": "execute_result",
                    "data": {
                        "text/plain": [
                            "   wms_warehouse_id ou_code          ou_name company_id company_name  \\\n",
                            "30            SQBHT  CN-009  BMS SHA HT0 WHS     squibb       squibb   \n",
                            "\n",
                            "   data_source  \n",
                            "30       SCALE  "
                        ],
                        "text/html": [
                            "<div>\n",
                            "<style scoped>\n",
                            "    .dataframe tbody tr th:only-of-type {\n",
                            "        vertical-align: middle;\n",
                            "    }\n",
                            "\n",
                            "    .dataframe tbody tr th {\n",
                            "        vertical-align: top;\n",
                            "    }\n",
                            "\n",
                            "    .dataframe thead th {\n",
                            "        text-align: right;\n",
                            "    }\n",
                            "</style>\n",
                            "<table border=\"1\" class=\"dataframe\">\n",
                            "  <thead>\n",
                            "    <tr style=\"text-align: right;\">\n",
                            "      <th></th>\n",
                            "      <th>wms_warehouse_id</th>\n",
                            "      <th>ou_code</th>\n",
                            "      <th>ou_name</th>\n",
                            "      <th>company_id</th>\n",
                            "      <th>company_name</th>\n",
                            "      <th>data_source</th>\n",
                            "    </tr>\n",
                            "  </thead>\n",
                            "  <tbody>\n",
                            "    <tr>\n",
                            "      <th>30</th>\n",
                            "      <td>SQBHT</td>\n",
                            "      <td>CN-009</td>\n",
                            "      <td>BMS SHA HT0 WHS</td>\n",
                            "      <td>squibb</td>\n",
                            "      <td>squibb</td>\n",
                            "      <td>SCALE</td>\n",
                            "    </tr>\n",
                            "  </tbody>\n",
                            "</table>\n",
                            "</div>"
                        ]
                    },
                    "metadata": {},
                    "execution_count": 32
                }
            ],
            "metadata": {}
        },
        {
            "cell_type": "code",
            "execution_count": 98,
            "source": [
                "# def search_ou_whse(input):\r\n",
                "#     try:\r\n",
                "#         input = int(input)\r\n",
                "#         print(0)\r\n",
                "#     except:\r\n",
                "#         if type(input) == str:\r\n",
                "#             print ('str')\r\n",
                "#         if type(input) == int:\r\n",
                "#             print (2)\r\n",
                " \r\n"
            ],
            "outputs": [
                {
                    "output_type": "execute_result",
                    "data": {
                        "text/plain": [
                            "123123"
                        ]
                    },
                    "metadata": {},
                    "execution_count": 98
                }
            ],
            "metadata": {}
        },
        {
            "cell_type": "code",
            "execution_count": null,
            "source": [],
            "outputs": [],
            "metadata": {}
        }
    ],
    "metadata": {
        "orig_nbformat": 4,
        "language_info": {
            "name": "python",
            "version": "3.8.8",
            "mimetype": "text/x-python",
            "codemirror_mode": {
                "name": "ipython",
                "version": 3
            },
            "pygments_lexer": "ipython3",
            "nbconvert_exporter": "python",
            "file_extension": ".py"
        },
        "kernelspec": {
            "name": "python3",
            "display_name": "Python 3.8.8 64-bit ('siming': conda)"
        },
        "interpreter": {
            "hash": "47b50d2908d96196e4220cfb4e81faa93803065ea975497e7026f672c1f58470"
        }
    },
    "nbformat": 4,
    "nbformat_minor": 2
}